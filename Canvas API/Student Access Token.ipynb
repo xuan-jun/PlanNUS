{
 "cells": [
  {
   "cell_type": "code",
   "execution_count": null,
   "id": "8621e19e",
   "metadata": {},
   "outputs": [],
   "source": [
    "import requests\n",
    "import pandas as pd\n",
    "\n",
    "# set up Canvas API URL and token\n",
    "API_URL = 'https://canvas.nus.edu.sg/api/v1/courses'\n",
    "API_TOKEN = '' # input your access token here\n",
    "\n",
    "# set up headers for API requests\n",
    "headers = {\n",
    "    'Authorization': 'Bearer ' + API_TOKEN,\n",
    "    'Content-Type': 'application/json',\n",
    "}\n",
    "\n",
    "# send API request to retrieve courses\n",
    "response_1 = requests.get(API_URL, headers=headers)\n",
    "\n",
    "print(response_1)"
   ]
  },
  {
   "cell_type": "code",
   "execution_count": null,
   "id": "de057f2c",
   "metadata": {},
   "outputs": [],
   "source": [
    "courses = []\n",
    "for course in response_1.json():\n",
    "    course_id = course['id']\n",
    "    course_name = course.get('name', None)\n",
    "    \n",
    "    courses.append({\n",
    "        'Course ID': course_id,\n",
    "        'Course Name': course_name\n",
    "    })\n",
    "\n",
    "df_courses = pd.DataFrame(courses)\n",
    "df_courses = df_courses.dropna(subset=['Course Name'])\n",
    "df_courses"
   ]
  },
  {
   "cell_type": "code",
   "execution_count": null,
   "id": "2a76d499",
   "metadata": {},
   "outputs": [],
   "source": [
    "data = []\n",
    "\n",
    "# iterate over courses\n",
    "for index, row in df_courses.iterrows():\n",
    "    course_id = row['Course ID']\n",
    "    course_name = row['Course Name']\n",
    "    url = \"https://canvas.nus.edu.sg/api/v1/courses/\" + str(course_id) + \"/assignments\"\n",
    "    response_2 = requests.get(url, headers=headers)\n",
    "    \n",
    "    # iterate over assignments of a course\n",
    "    for assignment in response_2.json():\n",
    "        semester = 2220\n",
    "        assignment_name = assignment['name']\n",
    "        assignment_type = assignment['submission_types'][0]\n",
    "        group_or_individual = 'G' if assignment['grade_group_students_individually'] else 'I'\n",
    "        create_date = assignment['created_at']\n",
    "        due_date = assignment['due_at']\n",
    "        allowed_attempts = assignment['allowed_attempts']\n",
    "        submission_types = assignment['submission_types']\n",
    "        grading_type = assignment['grading_type']\n",
    "        points_possible = assignment['points_possible']\n",
    "    \n",
    "        data.append({\n",
    "            'Course ID': course_id,\n",
    "            'Course Name': course_name,\n",
    "            'Semester': semester,\n",
    "            'Assignment Name': assignment_name,\n",
    "            #'Weightage': weightage, (weightage is unknown)\n",
    "            'Assignment Type': assignment_type,\n",
    "            'Group or Individual': group_or_individual,\n",
    "            'Create Date': create_date,\n",
    "            'Due Date': due_date,\n",
    "            'Allowed Attempts': allowed_attempts,\n",
    "            'Submission Types': submission_types,\n",
    "            'Grading Type': submission_types,\n",
    "            'Points Possible': points_possible\n",
    "        })\n",
    "\n",
    "# convert data to pandas DataFrame\n",
    "df_assignments = pd.DataFrame(data)\n",
    "\n",
    "# print DataFrame\n",
    "df_assignments"
   ]
  },
  {
   "cell_type": "code",
   "execution_count": null,
   "id": "bbed90a4",
   "metadata": {},
   "outputs": [],
   "source": []
  }
 ],
 "metadata": {
  "kernelspec": {
   "display_name": "Python 3 (ipykernel)",
   "language": "python",
   "name": "python3"
  },
  "language_info": {
   "codemirror_mode": {
    "name": "ipython",
    "version": 3
   },
   "file_extension": ".py",
   "mimetype": "text/x-python",
   "name": "python",
   "nbconvert_exporter": "python",
   "pygments_lexer": "ipython3",
   "version": "3.10.1"
  }
 },
 "nbformat": 4,
 "nbformat_minor": 5
}
