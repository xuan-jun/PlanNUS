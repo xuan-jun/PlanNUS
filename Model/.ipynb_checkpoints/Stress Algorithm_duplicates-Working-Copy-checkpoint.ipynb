{
 "cells": [
  {
   "cell_type": "code",
   "execution_count": 72,
   "id": "810bd5fc",
   "metadata": {},
   "outputs": [],
   "source": [
    "import numpy as np\n",
    "import pandas as pd\n",
    "import math\n",
    "from itertools import combinations"
   ]
  },
  {
   "cell_type": "code",
   "execution_count": null,
   "id": "2a5a14bb",
   "metadata": {},
   "outputs": [],
   "source": [
    "student_counts = pd.read_csv(\"data/New versions/student_counts.csv\")\n",
    "pair_counts = pd.read_csv(\"data/module_pairs.csv\")\n",
    "assignments = pd.read_csv(\"data/New versions/Assignments.csv\")"
   ]
  },
  {
   "cell_type": "code",
   "execution_count": null,
   "id": "0e2f4fb0",
   "metadata": {},
   "outputs": [],
   "source": [
    "assignments[\"Start Date\"] = pd.to_datetime(assignments[\"Start Date\"])\n",
    "assignments[\"Due Date\"] = pd.to_datetime(assignments[\"Due Date\"])\n",
    "assignments = assignments.sort_values(by=[\"Due Date\"], na_position=\"last\")"
   ]
  },
  {
   "cell_type": "code",
   "execution_count": null,
   "id": "76c31d53",
   "metadata": {},
   "outputs": [],
   "source": [
    "# Stress Score calculation = [weight(level)*1] + [weight(i_or_g)*2] + [weight(type)*3] + [weight(gap)*4] + weightage/100\n",
    "# then standardize it to range 0 to 10"
   ]
  },
  {
   "cell_type": "code",
   "execution_count": null,
   "id": "b26f568e",
   "metadata": {},
   "outputs": [],
   "source": [
    "# how important/stressful each of these factors are to students\n",
    "# sum to 10?\n",
    "# level: 1\n",
    "# i_or_g: 2\n",
    "# assignment_type: 3\n",
    "# gap: 4"
   ]
  },
  {
   "cell_type": "code",
   "execution_count": null,
   "id": "de87a0c8",
   "metadata": {},
   "outputs": [],
   "source": [
    "# how stressful each level within the factors are\n",
    "weights = {\n",
    "    \"level\": {\n",
    "        \"level_1k\": 0.1,\n",
    "        \"level_2k\": 0.2,\n",
    "        \"level_3k\": 0.3,\n",
    "        \"level_4k\": 0.4\n",
    "    },\n",
    "    \"i_or_g\": {\n",
    "        \"I\": 0.3,\n",
    "        \"G\": 0.4,\n",
    "        \"I&G\": 0.3\n",
    "    },\n",
    "    \"type\": {\n",
    "        \"Presentation\": 0.1,\n",
    "        \"Project\": 0.25,\n",
    "        \"Participation\": 0.05,\n",
    "        \"Quiz\": 0.1,\n",
    "        \"Assignment\": 0.15,\n",
    "        \"Exam\": 0.35\n",
    "    },\n",
    "    \"gap\": {\n",
    "        \"One Week\": 0.4,\n",
    "        \"Two Weeks\": 0.3,\n",
    "        \"More Than Two Weeks\": 0.15,\n",
    "        \"Others\": 0.15 # assume weight to be 0.15 if gap is not known eg. start date is NA\n",
    "    }\n",
    "}"
   ]
  },
  {
   "cell_type": "markdown",
   "id": "0abac180",
   "metadata": {},
   "source": [
    "# Individual Stress Score Per Assignment"
   ]
  },
  {
   "cell_type": "markdown",
   "id": "d55618b1",
   "metadata": {},
   "source": [
    "### Assumptions"
   ]
  },
  {
   "cell_type": "code",
   "execution_count": 1,
   "id": "ef973132",
   "metadata": {},
   "outputs": [],
   "source": [
    "# max_weightage = by_date[\"Weightage\"].max()\n",
    "# max weightage is 70 based on the data\n",
    "# we will assume that weightage for any graded components will not exceed 70% based on department's guidelines\n",
    "\n",
    "max_weightage = 70\n",
    "\n",
    "# max_stress is assuming that this is the maximum possible stress for a student,so we use the highest weights for each factor\n",
    "max_stress = max_weightage/100* 0.4*1 + 0.4*2 + 0.35*3 + 0.4*4\n",
    "\n",
    "def normalized_score(score):\n",
    "    return (score)/(max_stress)*10"
   ]
  },
  {
   "cell_type": "code",
   "execution_count": 2,
   "id": "468dfe08",
   "metadata": {},
   "outputs": [],
   "source": [
    "def get_gap(due_date, start_date):\n",
    "    if pd.isnull(start_date):\n",
    "        return \"Others\"\n",
    "    else:\n",
    "        gap = (due_date - start_date).days\n",
    "        if gap <= 7:\n",
    "            return \"One Week\"\n",
    "        elif gap <= 14:\n",
    "            return \"Two Weeks\"\n",
    "        else:\n",
    "            return \"More Than Two Weeks\""
   ]
  },
  {
   "cell_type": "markdown",
   "id": "054cd847",
   "metadata": {},
   "source": [
    "### Input is a df, output is a df"
   ]
  },
  {
   "cell_type": "code",
   "execution_count": 3,
   "id": "2b2105c9",
   "metadata": {},
   "outputs": [],
   "source": [
    "def indiv_score_df(df):\n",
    "    for i in range(0, len(df)):\n",
    "        weightage = df.loc[i,\"Weightage\"]\n",
    "        assignment_type = df.loc[i,\"Type\"]\n",
    "        i_g = df.loc[i,\"Group or Individual\"]\n",
    "        level = df.loc[i,\"Level\"]\n",
    "        gap = get_gap(df.loc[i,\"Due Date\"], df.loc[i,\"Start Date\"])\n",
    "        stress_score = weightage/100*weights['type'][assignment_type] * 3 + weights['i_or_g'][i_g] * 2 + weights['level'][level] * 1 + weights['gap'][gap] * 4\n",
    "        normalized_stress = normalized_score(stress_score)\n",
    "        df.loc[i, \"Stress\"] = normalized_stress\n",
    "    return df"
   ]
  },
  {
   "cell_type": "code",
   "execution_count": null,
   "id": "05e8f80f",
   "metadata": {},
   "outputs": [],
   "source": [
    "example = indiv_score_df(assignments)\n",
    "example"
   ]
  },
  {
   "cell_type": "markdown",
   "id": "74aba4d5",
   "metadata": {},
   "source": [
    "### Input is the assignment details, output is the stress score"
   ]
  },
  {
   "cell_type": "code",
   "execution_count": null,
   "id": "01472556",
   "metadata": {},
   "outputs": [],
   "source": [
    "def indiv_score(weightage, assignment_type, i_g, level, start_date=None, due_date=None):\n",
    "    gap = get_gap(due_date, start_date)\n",
    "    stress_score = weightage/100*weights['type'][assignment_type] * 3 + weights['i_or_g'][i_g] * 2 + weights['level'][level] * 1 + weights['gap'][gap] * 4\n",
    "    normalized_stress = normalized_score(stress_score)\n",
    "    return normalized_stress"
   ]
  },
  {
   "cell_type": "code",
   "execution_count": null,
   "id": "fcb73147",
   "metadata": {},
   "outputs": [],
   "source": [
    "example2 = indiv_score(7.5, \"Assignment\", \"I\", \"level_3k\")\n",
    "example2"
   ]
  },
  {
   "cell_type": "markdown",
   "id": "3f197ba0",
   "metadata": {},
   "source": [
    "# Pairwise Stress Score Calculations for Clashes"
   ]
  },
  {
   "cell_type": "markdown",
   "id": "97ba59f2",
   "metadata": {},
   "source": [
    "## For >= 2 clashes"
   ]
  },
  {
   "cell_type": "code",
   "execution_count": 4,
   "id": "323356f6",
   "metadata": {},
   "outputs": [],
   "source": [
    "def get_pairwise_stress(data, date, module):\n",
    "    index = data[data['Due Date'] == date].index.values[0]\n",
    "    stress_list = data.loc[index,\"Stress\"]\n",
    "    if (data.loc[index, 'Module 1'] == module):\n",
    "        if (math.isnan(data.loc[index, 'Module 1 Count']) | math.isnan(data.loc[index, 'Pair Count'])):\n",
    "            pairwise_stress = data['Pair Count'].mean()/data['Module 1 Count'].mean()*sum(stress_list)+stress_list[0]\n",
    "        else:\n",
    "            pairwise_stress = data.loc[index, 'Pair Count']/data.loc[index, 'Module 1 Count']*sum(stress_list)+stress_list[0]\n",
    "    else:\n",
    "        if (math.isnan(data.loc[index, 'Module 2 Count']) | math.isnan(data.loc[index, 'Pair Count'])):\n",
    "            pairwise_stress = data['Pair Count'].mean()/data['Module 2 Count'].mean()*sum(stress_list)+stress_list[1]\n",
    "        else:\n",
    "            pairwise_stress = data.loc[index, 'Pair Count']/data.loc[index, 'Module 2 Count']*sum(stress_list)+stress_list[1]\n",
    "    return pairwise_stress"
   ]
  },
  {
   "cell_type": "code",
   "execution_count": null,
   "id": "828a357f",
   "metadata": {},
   "outputs": [],
   "source": [
    "def clash_pairs(df):\n",
    "    indiv_df = indiv_score_df(df)\n",
    "    indiv_df.groupby('Due Date').filter(lambda x: len(x) >= 2)\n",
    "\n",
    "    dates = list(indiv_df['Due Date'].unique())\n",
    "\n",
    "    data = []\n",
    "    for date in dates:\n",
    "        assignments = list(indiv_df[indiv_df['Due Date']==date].index)\n",
    "        assignment_combinations = list(combinations(assignments, 2))\n",
    "        for comb in assignment_combinations:\n",
    "            assignment1 = comb[0]\n",
    "            assignment2 = comb[1]\n",
    "            scores = indiv_df.loc[indiv_df.index.isin([assignment1, assignment2]),'Stress'].tolist()\n",
    "            modules = indiv_df.loc[indiv_df.index.isin([assignment1, assignment2]),'Module Code'].tolist()\n",
    "            semester = indiv_df.loc[assignment1, \"Semester\"].tolist()\n",
    "            data.append({'Due Date': date, 'Semester': semester, 'Module Code': modules, 'Assignment Index': [assignment1, assignment2], 'Stress': scores})\n",
    "\n",
    "    output_df = pd.DataFrame(data)\n",
    "    output_df[['Module 1', 'Module 2']] = pd.DataFrame(output_df['Module Code'].tolist(), index=output_df.index)\n",
    "    output_df.drop('Module Code', axis=1, inplace=True)\n",
    "    output_df = output_df.merge(pair_counts, how='left', on=['Semester', 'Module 1', 'Module 2'])\n",
    "    output_df = pd.merge(output_df, student_counts, left_on=['Semester', 'Module 1'], right_on=['Semester', 'Module Code'], how = 'left')\n",
    "    output_df = pd.merge(output_df, student_counts, left_on=['Semester', 'Module 2'], right_on=['Semester', 'Module Code'], how = 'left')\n",
    "    output_df.rename(columns={\"Count_x\":\"Pair Count\", \"Count_y\":\"Module 1 Count\", \"Count\":\"Module 2\"}, inplace=True)\n",
    "    output_df.drop([\"Module Code_x\", \"Module Code_y\", \"Level_x\", \"Level_y\"], axis=1, inplace=True)\n",
    "    \n",
    "    for i in range(0, len(output_df)):\n",
    "        date = output_df.loc[i,\"Due Date\"]\n",
    "        module1 = output_df.loc[i,\"Module 1\"]\n",
    "        module2 = output_df.loc[i,\"Module 2\"]\n",
    "        output_df.loc[i, \"Module 1 Pair Stress\"] = get_pairwise_stress(output_df, date, module1)\n",
    "        output_df.loc[i, \"Module 2 Pair Stress\"] = get_pairwise_stress(output_df, date, module2)\n",
    "    return output_df"
   ]
  },
  {
   "cell_type": "code",
   "execution_count": null,
   "id": "5fe594ab",
   "metadata": {},
   "outputs": [],
   "source": [
    "test1 = clash_pairs(assignments)\n",
    "test1"
   ]
  }
 ],
 "metadata": {
  "kernelspec": {
   "display_name": "Python 3 (ipykernel)",
   "language": "python",
   "name": "python3"
  },
  "language_info": {
   "codemirror_mode": {
    "name": "ipython",
    "version": 3
   },
   "file_extension": ".py",
   "mimetype": "text/x-python",
   "name": "python",
   "nbconvert_exporter": "python",
   "pygments_lexer": "ipython3",
   "version": "3.8.10"
  }
 },
 "nbformat": 4,
 "nbformat_minor": 5
}
