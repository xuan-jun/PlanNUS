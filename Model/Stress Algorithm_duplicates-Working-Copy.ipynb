{
 "cells": [
  {
   "cell_type": "code",
   "execution_count": 1,
   "id": "810bd5fc",
   "metadata": {},
   "outputs": [],
   "source": [
    "import numpy as np\n",
    "import pandas as pd\n",
    "import math\n",
    "from itertools import combinations"
   ]
  },
  {
   "cell_type": "code",
   "execution_count": 2,
   "id": "701fd7c3",
   "metadata": {},
   "outputs": [],
   "source": [
    "student_counts = pd.read_csv(\"../Data/student_counts.csv\")\n",
    "pair_counts = pd.read_csv(\"../Data/module_pairs.csv\")\n",
    "assignments = pd.read_csv(\"../Data/Assignments.csv\")"
   ]
  },
  {
   "cell_type": "code",
   "execution_count": 3,
   "id": "0a616305",
   "metadata": {},
   "outputs": [],
   "source": [
    "assignments[\"Start Date\"] = pd.to_datetime(assignments[\"Start Date\"])\n",
    "assignments[\"Due Date\"] = pd.to_datetime(assignments[\"Due Date\"])\n",
    "assignments = assignments.sort_values(by=[\"Due Date\"], na_position=\"last\")"
   ]
  },
  {
   "cell_type": "code",
   "execution_count": 4,
   "id": "8219dced",
   "metadata": {},
   "outputs": [],
   "source": [
    "# Stress Score calculation = [weight(level)*1] + [weight(i_or_g)*2] + [weight(type)*3] + [weight(gap)*4] + weightage/100\n",
    "# then standardize it to range 0 to 10"
   ]
  },
  {
   "cell_type": "code",
   "execution_count": 5,
   "id": "6e8f487d",
   "metadata": {},
   "outputs": [],
   "source": [
    "# how important/stressful each of these factors are to students\n",
    "# sum to 10?\n",
    "# level: 1\n",
    "# i_or_g: 2\n",
    "# assignment_type: 3\n",
    "# gap: 4"
   ]
  },
  {
   "cell_type": "code",
   "execution_count": 6,
   "id": "37926482",
   "metadata": {},
   "outputs": [],
   "source": [
    "# how stressful each level within the factors are\n",
    "weights = {\n",
    "    \"level\": {\n",
    "        \"level_1k\": 0.1,\n",
    "        \"level_2k\": 0.2,\n",
    "        \"level_3k\": 0.3,\n",
    "        \"level_4k\": 0.4\n",
    "    },\n",
    "    \"i_or_g\": {\n",
    "        \"I\": 0.3,\n",
    "        \"G\": 0.4,\n",
    "        \"I&G\": 0.3\n",
    "    },\n",
    "    \"type\": {\n",
    "        \"Presentation\": 0.1,\n",
    "        \"Project\": 0.25,\n",
    "        \"Participation\": 0.05,\n",
    "        \"Quiz\": 0.1,\n",
    "        \"Assignment\": 0.15,\n",
    "        \"Exam\": 0.35\n",
    "    },\n",
    "    \"gap\": {\n",
    "        \"One Week\": 0.4,\n",
    "        \"Two Weeks\": 0.3,\n",
    "        \"More Than Two Weeks\": 0.15,\n",
    "        \"Others\": 0.15 # assume weight to be 0.15 if gap is not known eg. start date is NA\n",
    "    }\n",
    "}"
   ]
  },
  {
   "cell_type": "markdown",
   "id": "62503a6c",
   "metadata": {},
   "source": [
    "# Individual Stress Score Per Assignment"
   ]
  },
  {
   "cell_type": "markdown",
   "id": "b614c54a",
   "metadata": {},
   "source": [
    "### Assumptions"
   ]
  },
  {
   "cell_type": "code",
   "execution_count": 7,
   "id": "00fd3a22",
   "metadata": {},
   "outputs": [],
   "source": [
    "# max_weightage = by_date[\"Weightage\"].max()\n",
    "# max weightage is 70 based on the data\n",
    "# we will assume that weightage for any graded components will not exceed 70% based on department's guidelines\n",
    "\n",
    "max_weightage = 70\n",
    "\n",
    "# max_stress is assuming that this is the maximum possible stress for a student,so we use the highest weights for each factor\n",
    "max_stress = max_weightage/100* 0.4*1 + 0.4*2 + 0.35*3 + 0.4*4\n",
    "\n",
    "def normalized_score(score):\n",
    "    return (score)/(max_stress)*10"
   ]
  },
  {
   "cell_type": "code",
   "execution_count": 8,
   "id": "cd942621",
   "metadata": {},
   "outputs": [],
   "source": [
    "def get_gap(due_date, start_date):\n",
    "    if pd.isnull(start_date):\n",
    "        return \"Others\"\n",
    "    else:\n",
    "        gap = (due_date - start_date).days\n",
    "        if gap <= 7:\n",
    "            return \"One Week\"\n",
    "        elif gap <= 14:\n",
    "            return \"Two Weeks\"\n",
    "        else:\n",
    "            return \"More Than Two Weeks\""
   ]
  },
  {
   "cell_type": "markdown",
   "id": "47d9b070",
   "metadata": {},
   "source": [
    "### Input is a df, output is a df"
   ]
  },
  {
   "cell_type": "code",
   "execution_count": 9,
   "id": "fe2183d0",
   "metadata": {},
   "outputs": [],
   "source": [
    "def indiv_score_df(df):\n",
    "    for i in range(0, len(df)):\n",
    "        weightage = df.loc[i,\"Weightage\"]\n",
    "        assignment_type = df.loc[i,\"Type\"]\n",
    "        i_g = df.loc[i,\"Group or Individual\"]\n",
    "        level = df.loc[i,\"Level\"]\n",
    "        gap = get_gap(df.loc[i,\"Due Date\"], df.loc[i,\"Start Date\"])\n",
    "        stress_score = weightage/100*weights['type'][assignment_type] * 3 + weights['i_or_g'][i_g] * 2 + weights['level'][level] * 1 + weights['gap'][gap] * 4\n",
    "        normalized_stress = normalized_score(stress_score)\n",
    "        df.loc[i, \"Stress\"] = normalized_stress\n",
    "    return df"
   ]
  },
  {
   "cell_type": "code",
   "execution_count": 10,
   "id": "3af8c7c8",
   "metadata": {},
   "outputs": [
    {
     "data": {
      "text/html": [
       "<div>\n",
       "<style scoped>\n",
       "    .dataframe tbody tr th:only-of-type {\n",
       "        vertical-align: middle;\n",
       "    }\n",
       "\n",
       "    .dataframe tbody tr th {\n",
       "        vertical-align: top;\n",
       "    }\n",
       "\n",
       "    .dataframe thead th {\n",
       "        text-align: right;\n",
       "    }\n",
       "</style>\n",
       "<table border=\"1\" class=\"dataframe\">\n",
       "  <thead>\n",
       "    <tr style=\"text-align: right;\">\n",
       "      <th></th>\n",
       "      <th>Module Code</th>\n",
       "      <th>Semester</th>\n",
       "      <th>Name</th>\n",
       "      <th>Weightage</th>\n",
       "      <th>Type</th>\n",
       "      <th>Group or Individual</th>\n",
       "      <th>Start Date</th>\n",
       "      <th>Due Date</th>\n",
       "      <th>Level</th>\n",
       "      <th>Stress</th>\n",
       "    </tr>\n",
       "  </thead>\n",
       "  <tbody>\n",
       "    <tr>\n",
       "      <th>4</th>\n",
       "      <td>DSA2101</td>\n",
       "      <td>2020</td>\n",
       "      <td>Quiz 1</td>\n",
       "      <td>5.0</td>\n",
       "      <td>Quiz</td>\n",
       "      <td>I</td>\n",
       "      <td>2021-01-12</td>\n",
       "      <td>2021-01-19</td>\n",
       "      <td>level_2k</td>\n",
       "      <td>6.474531</td>\n",
       "    </tr>\n",
       "    <tr>\n",
       "      <th>5</th>\n",
       "      <td>DSA2101</td>\n",
       "      <td>2020</td>\n",
       "      <td>Assignment 1</td>\n",
       "      <td>2.5</td>\n",
       "      <td>Assignment</td>\n",
       "      <td>I</td>\n",
       "      <td>2021-01-19</td>\n",
       "      <td>2021-01-26</td>\n",
       "      <td>level_2k</td>\n",
       "      <td>6.464477</td>\n",
       "    </tr>\n",
       "    <tr>\n",
       "      <th>6</th>\n",
       "      <td>DSA2101</td>\n",
       "      <td>2020</td>\n",
       "      <td>Assignment 2</td>\n",
       "      <td>2.5</td>\n",
       "      <td>Assignment</td>\n",
       "      <td>I</td>\n",
       "      <td>2021-02-09</td>\n",
       "      <td>2021-02-16</td>\n",
       "      <td>level_2k</td>\n",
       "      <td>6.464477</td>\n",
       "    </tr>\n",
       "    <tr>\n",
       "      <th>9</th>\n",
       "      <td>DSA2101</td>\n",
       "      <td>2020</td>\n",
       "      <td>Take-Home Midterms</td>\n",
       "      <td>30.0</td>\n",
       "      <td>Assignment</td>\n",
       "      <td>I</td>\n",
       "      <td>2021-03-02</td>\n",
       "      <td>2021-03-06</td>\n",
       "      <td>level_2k</td>\n",
       "      <td>6.796247</td>\n",
       "    </tr>\n",
       "    <tr>\n",
       "      <th>7</th>\n",
       "      <td>DSA2101</td>\n",
       "      <td>2020</td>\n",
       "      <td>Assignment 3</td>\n",
       "      <td>2.5</td>\n",
       "      <td>Assignment</td>\n",
       "      <td>I</td>\n",
       "      <td>NaT</td>\n",
       "      <td>2021-03-23</td>\n",
       "      <td>level_2k</td>\n",
       "      <td>3.783512</td>\n",
       "    </tr>\n",
       "    <tr>\n",
       "      <th>...</th>\n",
       "      <td>...</td>\n",
       "      <td>...</td>\n",
       "      <td>...</td>\n",
       "      <td>...</td>\n",
       "      <td>...</td>\n",
       "      <td>...</td>\n",
       "      <td>...</td>\n",
       "      <td>...</td>\n",
       "      <td>...</td>\n",
       "      <td>...</td>\n",
       "    </tr>\n",
       "    <tr>\n",
       "      <th>88</th>\n",
       "      <td>ST4253</td>\n",
       "      <td>2210</td>\n",
       "      <td>Participation</td>\n",
       "      <td>10.0</td>\n",
       "      <td>Participation</td>\n",
       "      <td>I</td>\n",
       "      <td>NaT</td>\n",
       "      <td>NaT</td>\n",
       "      <td>level_4k</td>\n",
       "      <td>4.329759</td>\n",
       "    </tr>\n",
       "    <tr>\n",
       "      <th>89</th>\n",
       "      <td>ST4253</td>\n",
       "      <td>2210</td>\n",
       "      <td>Tutorial Presentation</td>\n",
       "      <td>10.0</td>\n",
       "      <td>Presentation</td>\n",
       "      <td>I</td>\n",
       "      <td>NaT</td>\n",
       "      <td>NaT</td>\n",
       "      <td>level_4k</td>\n",
       "      <td>4.369973</td>\n",
       "    </tr>\n",
       "    <tr>\n",
       "      <th>101</th>\n",
       "      <td>ST4248</td>\n",
       "      <td>2220</td>\n",
       "      <td>Presentation</td>\n",
       "      <td>10.0</td>\n",
       "      <td>Presentation</td>\n",
       "      <td>G</td>\n",
       "      <td>NaT</td>\n",
       "      <td>NaT</td>\n",
       "      <td>level_4k</td>\n",
       "      <td>4.906166</td>\n",
       "    </tr>\n",
       "    <tr>\n",
       "      <th>103</th>\n",
       "      <td>ST3247</td>\n",
       "      <td>2220</td>\n",
       "      <td>Tutorial Attendance</td>\n",
       "      <td>10.0</td>\n",
       "      <td>Participation</td>\n",
       "      <td>I</td>\n",
       "      <td>NaT</td>\n",
       "      <td>NaT</td>\n",
       "      <td>level_3k</td>\n",
       "      <td>4.061662</td>\n",
       "    </tr>\n",
       "    <tr>\n",
       "      <th>107</th>\n",
       "      <td>ST3247</td>\n",
       "      <td>2220</td>\n",
       "      <td>Assignment 4</td>\n",
       "      <td>7.5</td>\n",
       "      <td>Assignment</td>\n",
       "      <td>I</td>\n",
       "      <td>NaT</td>\n",
       "      <td>NaT</td>\n",
       "      <td>level_3k</td>\n",
       "      <td>4.111930</td>\n",
       "    </tr>\n",
       "  </tbody>\n",
       "</table>\n",
       "<p>109 rows × 10 columns</p>\n",
       "</div>"
      ],
      "text/plain": [
       "    Module Code  Semester                   Name  Weightage           Type  \\\n",
       "4       DSA2101      2020                 Quiz 1        5.0           Quiz   \n",
       "5       DSA2101      2020           Assignment 1        2.5     Assignment   \n",
       "6       DSA2101      2020           Assignment 2        2.5     Assignment   \n",
       "9       DSA2101      2020     Take-Home Midterms       30.0     Assignment   \n",
       "7       DSA2101      2020           Assignment 3        2.5     Assignment   \n",
       "..          ...       ...                    ...        ...            ...   \n",
       "88       ST4253      2210          Participation       10.0  Participation   \n",
       "89       ST4253      2210  Tutorial Presentation       10.0   Presentation   \n",
       "101      ST4248      2220           Presentation       10.0   Presentation   \n",
       "103      ST3247      2220    Tutorial Attendance       10.0  Participation   \n",
       "107      ST3247      2220           Assignment 4        7.5     Assignment   \n",
       "\n",
       "    Group or Individual Start Date   Due Date     Level    Stress  \n",
       "4                     I 2021-01-12 2021-01-19  level_2k  6.474531  \n",
       "5                     I 2021-01-19 2021-01-26  level_2k  6.464477  \n",
       "6                     I 2021-02-09 2021-02-16  level_2k  6.464477  \n",
       "9                     I 2021-03-02 2021-03-06  level_2k  6.796247  \n",
       "7                     I        NaT 2021-03-23  level_2k  3.783512  \n",
       "..                  ...        ...        ...       ...       ...  \n",
       "88                    I        NaT        NaT  level_4k  4.329759  \n",
       "89                    I        NaT        NaT  level_4k  4.369973  \n",
       "101                   G        NaT        NaT  level_4k  4.906166  \n",
       "103                   I        NaT        NaT  level_3k  4.061662  \n",
       "107                   I        NaT        NaT  level_3k  4.111930  \n",
       "\n",
       "[109 rows x 10 columns]"
      ]
     },
     "execution_count": 10,
     "metadata": {},
     "output_type": "execute_result"
    }
   ],
   "source": [
    "example = indiv_score_df(assignments)\n",
    "example"
   ]
  },
  {
   "cell_type": "markdown",
   "id": "a97abdbf",
   "metadata": {},
   "source": [
    "### Input is the assignment details, output is the stress score"
   ]
  },
  {
   "cell_type": "code",
   "execution_count": 11,
   "id": "a6d43391",
   "metadata": {},
   "outputs": [],
   "source": [
    "def indiv_score(weightage, assignment_type, i_g, level, start_date=None, due_date=None):\n",
    "    gap = get_gap(due_date, start_date)\n",
    "    stress_score = weightage/100*weights['type'][assignment_type] * 3 + weights['i_or_g'][i_g] * 2 + weights['level'][level] * 1 + weights['gap'][gap] * 4\n",
    "    normalized_stress = normalized_score(stress_score)\n",
    "    return normalized_stress"
   ]
  },
  {
   "cell_type": "code",
   "execution_count": 12,
   "id": "ca42381e",
   "metadata": {},
   "outputs": [
    {
     "data": {
      "text/plain": [
       "4.111930294906166"
      ]
     },
     "execution_count": 12,
     "metadata": {},
     "output_type": "execute_result"
    }
   ],
   "source": [
    "example2 = indiv_score(7.5, \"Assignment\", \"I\", \"level_3k\")\n",
    "example2"
   ]
  },
  {
   "cell_type": "markdown",
   "id": "87f0118e",
   "metadata": {},
   "source": [
    "# Pairwise Stress Score Calculations for Clashes"
   ]
  },
  {
   "cell_type": "markdown",
   "id": "5c2b0499",
   "metadata": {},
   "source": [
    "## For >= 2 clashes"
   ]
  },
  {
   "cell_type": "code",
   "execution_count": 13,
   "id": "653bd99b",
   "metadata": {},
   "outputs": [],
   "source": [
    "def get_pairwise_stress(data, date, module):\n",
    "    index = data[data['Due Date'] == date].index.values[0]\n",
    "    stress_list = data.loc[index,\"Stress\"]\n",
    "    if (data.loc[index, 'Module 1'] == module):\n",
    "        if (math.isnan(data.loc[index, 'Module 1 Count']) | math.isnan(data.loc[index, 'Pair Count'])):\n",
    "            pairwise_stress = data['Pair Count'].mean()/data['Module 1 Count'].mean()*sum(stress_list)+stress_list[0]\n",
    "        else:\n",
    "            pairwise_stress = data.loc[index, 'Pair Count']/data.loc[index, 'Module 1 Count']*sum(stress_list)+stress_list[0]\n",
    "    else:\n",
    "        if (math.isnan(data.loc[index, 'Module 2 Count']) | math.isnan(data.loc[index, 'Pair Count'])):\n",
    "            pairwise_stress = data['Pair Count'].mean()/data['Module 2 Count'].mean()*sum(stress_list)+stress_list[1]\n",
    "        else:\n",
    "            pairwise_stress = data.loc[index, 'Pair Count']/data.loc[index, 'Module 2 Count']*sum(stress_list)+stress_list[1]\n",
    "    return pairwise_stress"
   ]
  },
  {
   "cell_type": "code",
   "execution_count": 14,
   "id": "9b66dc6d",
   "metadata": {},
   "outputs": [],
   "source": [
    "def clash_pairs(df):\n",
    "    indiv_df = indiv_score_df(df)\n",
    "    indiv_df.groupby('Due Date').filter(lambda x: len(x) >= 2)\n",
    "\n",
    "    dates = list(indiv_df['Due Date'].unique())\n",
    "\n",
    "    data = []\n",
    "    for date in dates:\n",
    "        assignments = list(indiv_df[indiv_df['Due Date']==date].index)\n",
    "        assignment_combinations = list(combinations(assignments, 2))\n",
    "        for comb in assignment_combinations:\n",
    "            assignment1 = comb[0]\n",
    "            assignment2 = comb[1]\n",
    "            scores = indiv_df.loc[indiv_df.index.isin([assignment1, assignment2]),'Stress'].tolist()\n",
    "            modules = indiv_df.loc[indiv_df.index.isin([assignment1, assignment2]),'Module Code'].tolist()\n",
    "            semester = indiv_df.loc[assignment1, \"Semester\"].tolist()\n",
    "            data.append({'Due Date': date, 'Semester': semester, 'Module Code': modules, 'Assignment Index': [assignment1, assignment2], 'Stress': scores})\n",
    "\n",
    "    output_df = pd.DataFrame(data)\n",
    "    output_df[['Module 1', 'Module 2']] = pd.DataFrame(output_df['Module Code'].tolist(), index=output_df.index)\n",
    "    output_df.drop('Module Code', axis=1, inplace=True)\n",
    "    output_df = output_df.merge(pair_counts, how='left', on=['Semester', 'Module 1', 'Module 2'])\n",
    "    output_df = pd.merge(output_df, student_counts, left_on=['Semester', 'Module 1'], right_on=['Semester', 'Module Code'], how = 'left')\n",
    "    output_df = pd.merge(output_df, student_counts, left_on=['Semester', 'Module 2'], right_on=['Semester', 'Module Code'], how = 'left')\n",
    "    output_df.rename(columns={\"Count_x\":\"Pair Count\", \"Count_y\":\"Module 1 Count\", \"Count\":\"Module 2\"}, inplace=True)\n",
    "    output_df.drop([\"Module Code_x\", \"Module Code_y\", \"Level_x\", \"Level_y\"], axis=1, inplace=True)\n",
    "    \n",
    "    for i in range(0, len(output_df)):\n",
    "        date = output_df.loc[i,\"Due Date\"]\n",
    "        module1 = output_df.loc[i,\"Module 1\"]\n",
    "        module2 = output_df.loc[i,\"Module 2\"]\n",
    "        output_df.loc[i, \"Module 1 Pair Stress\"] = get_pairwise_stress(output_df, date, module1)\n",
    "        output_df.loc[i, \"Module 2 Pair Stress\"] = get_pairwise_stress(output_df, date, module2)\n",
    "    return output_df"
   ]
  },
  {
   "cell_type": "code",
   "execution_count": 15,
   "id": "af054590",
   "metadata": {},
   "outputs": [
    {
     "ename": "ValueError",
     "evalue": "The truth value of a Series is ambiguous. Use a.empty, a.bool(), a.item(), a.any() or a.all().",
     "output_type": "error",
     "traceback": [
      "\u001b[1;31m---------------------------------------------------------------------------\u001b[0m",
      "\u001b[1;31mValueError\u001b[0m                                Traceback (most recent call last)",
      "Input \u001b[1;32mIn [15]\u001b[0m, in \u001b[0;36m<cell line: 1>\u001b[1;34m()\u001b[0m\n\u001b[1;32m----> 1\u001b[0m test1 \u001b[38;5;241m=\u001b[39m \u001b[43mclash_pairs\u001b[49m\u001b[43m(\u001b[49m\u001b[43massignments\u001b[49m\u001b[43m)\u001b[49m\n\u001b[0;32m      2\u001b[0m test1\n",
      "Input \u001b[1;32mIn [14]\u001b[0m, in \u001b[0;36mclash_pairs\u001b[1;34m(df)\u001b[0m\n\u001b[0;32m     31\u001b[0m     module2 \u001b[38;5;241m=\u001b[39m output_df\u001b[38;5;241m.\u001b[39mloc[i,\u001b[38;5;124m\"\u001b[39m\u001b[38;5;124mModule 2\u001b[39m\u001b[38;5;124m\"\u001b[39m]\n\u001b[0;32m     32\u001b[0m     output_df\u001b[38;5;241m.\u001b[39mloc[i, \u001b[38;5;124m\"\u001b[39m\u001b[38;5;124mModule 1 Pair Stress\u001b[39m\u001b[38;5;124m\"\u001b[39m] \u001b[38;5;241m=\u001b[39m get_pairwise_stress(output_df, date, module1)\n\u001b[1;32m---> 33\u001b[0m     output_df\u001b[38;5;241m.\u001b[39mloc[i, \u001b[38;5;124m\"\u001b[39m\u001b[38;5;124mModule 2 Pair Stress\u001b[39m\u001b[38;5;124m\"\u001b[39m] \u001b[38;5;241m=\u001b[39m \u001b[43mget_pairwise_stress\u001b[49m\u001b[43m(\u001b[49m\u001b[43moutput_df\u001b[49m\u001b[43m,\u001b[49m\u001b[43m \u001b[49m\u001b[43mdate\u001b[49m\u001b[43m,\u001b[49m\u001b[43m \u001b[49m\u001b[43mmodule2\u001b[49m\u001b[43m)\u001b[49m\n\u001b[0;32m     34\u001b[0m \u001b[38;5;28;01mreturn\u001b[39;00m output_df\n",
      "Input \u001b[1;32mIn [13]\u001b[0m, in \u001b[0;36mget_pairwise_stress\u001b[1;34m(data, date, module)\u001b[0m\n\u001b[0;32m      2\u001b[0m index \u001b[38;5;241m=\u001b[39m data[data[\u001b[38;5;124m'\u001b[39m\u001b[38;5;124mDue Date\u001b[39m\u001b[38;5;124m'\u001b[39m] \u001b[38;5;241m==\u001b[39m date]\u001b[38;5;241m.\u001b[39mindex\u001b[38;5;241m.\u001b[39mvalues[\u001b[38;5;241m0\u001b[39m]\n\u001b[0;32m      3\u001b[0m stress_list \u001b[38;5;241m=\u001b[39m data\u001b[38;5;241m.\u001b[39mloc[index,\u001b[38;5;124m\"\u001b[39m\u001b[38;5;124mStress\u001b[39m\u001b[38;5;124m\"\u001b[39m]\n\u001b[1;32m----> 4\u001b[0m \u001b[38;5;28;01mif\u001b[39;00m (\u001b[43mdata\u001b[49m\u001b[38;5;241;43m.\u001b[39;49m\u001b[43mloc\u001b[49m\u001b[43m[\u001b[49m\u001b[43mindex\u001b[49m\u001b[43m,\u001b[49m\u001b[43m \u001b[49m\u001b[38;5;124;43m'\u001b[39;49m\u001b[38;5;124;43mModule 1\u001b[39;49m\u001b[38;5;124;43m'\u001b[39;49m\u001b[43m]\u001b[49m\u001b[43m \u001b[49m\u001b[38;5;241;43m==\u001b[39;49m\u001b[43m \u001b[49m\u001b[43mmodule\u001b[49m):\n\u001b[0;32m      5\u001b[0m     \u001b[38;5;28;01mif\u001b[39;00m (math\u001b[38;5;241m.\u001b[39misnan(data\u001b[38;5;241m.\u001b[39mloc[index, \u001b[38;5;124m'\u001b[39m\u001b[38;5;124mModule 1 Count\u001b[39m\u001b[38;5;124m'\u001b[39m]) \u001b[38;5;241m|\u001b[39m math\u001b[38;5;241m.\u001b[39misnan(data\u001b[38;5;241m.\u001b[39mloc[index, \u001b[38;5;124m'\u001b[39m\u001b[38;5;124mPair Count\u001b[39m\u001b[38;5;124m'\u001b[39m])):\n\u001b[0;32m      6\u001b[0m         pairwise_stress \u001b[38;5;241m=\u001b[39m data[\u001b[38;5;124m'\u001b[39m\u001b[38;5;124mPair Count\u001b[39m\u001b[38;5;124m'\u001b[39m]\u001b[38;5;241m.\u001b[39mmean()\u001b[38;5;241m/\u001b[39mdata[\u001b[38;5;124m'\u001b[39m\u001b[38;5;124mModule 1 Count\u001b[39m\u001b[38;5;124m'\u001b[39m]\u001b[38;5;241m.\u001b[39mmean()\u001b[38;5;241m*\u001b[39m\u001b[38;5;28msum\u001b[39m(stress_list)\u001b[38;5;241m+\u001b[39mstress_list[\u001b[38;5;241m0\u001b[39m]\n",
      "File \u001b[1;32m~\\AppData\\Local\\Packages\\PythonSoftwareFoundation.Python.3.8_qbz5n2kfra8p0\\LocalCache\\local-packages\\Python38\\site-packages\\pandas\\core\\generic.py:1537\u001b[0m, in \u001b[0;36mNDFrame.__nonzero__\u001b[1;34m(self)\u001b[0m\n\u001b[0;32m   1535\u001b[0m \u001b[38;5;129m@final\u001b[39m\n\u001b[0;32m   1536\u001b[0m \u001b[38;5;28;01mdef\u001b[39;00m \u001b[38;5;21m__nonzero__\u001b[39m(\u001b[38;5;28mself\u001b[39m):\n\u001b[1;32m-> 1537\u001b[0m     \u001b[38;5;28;01mraise\u001b[39;00m \u001b[38;5;167;01mValueError\u001b[39;00m(\n\u001b[0;32m   1538\u001b[0m         \u001b[38;5;124mf\u001b[39m\u001b[38;5;124m\"\u001b[39m\u001b[38;5;124mThe truth value of a \u001b[39m\u001b[38;5;132;01m{\u001b[39;00m\u001b[38;5;28mtype\u001b[39m(\u001b[38;5;28mself\u001b[39m)\u001b[38;5;241m.\u001b[39m\u001b[38;5;18m__name__\u001b[39m\u001b[38;5;132;01m}\u001b[39;00m\u001b[38;5;124m is ambiguous. \u001b[39m\u001b[38;5;124m\"\u001b[39m\n\u001b[0;32m   1539\u001b[0m         \u001b[38;5;124m\"\u001b[39m\u001b[38;5;124mUse a.empty, a.bool(), a.item(), a.any() or a.all().\u001b[39m\u001b[38;5;124m\"\u001b[39m\n\u001b[0;32m   1540\u001b[0m     )\n",
      "\u001b[1;31mValueError\u001b[0m: The truth value of a Series is ambiguous. Use a.empty, a.bool(), a.item(), a.any() or a.all()."
     ]
    }
   ],
   "source": [
    "test1 = clash_pairs(assignments)\n",
    "test1"
   ]
  }
 ],
 "metadata": {
  "kernelspec": {
   "display_name": "Python 3 (ipykernel)",
   "language": "python",
   "name": "python3"
  },
  "language_info": {
   "codemirror_mode": {
    "name": "ipython",
    "version": 3
   },
   "file_extension": ".py",
   "mimetype": "text/x-python",
   "name": "python",
   "nbconvert_exporter": "python",
   "pygments_lexer": "ipython3",
   "version": "3.8.10"
  }
 },
 "nbformat": 4,
 "nbformat_minor": 5
}
