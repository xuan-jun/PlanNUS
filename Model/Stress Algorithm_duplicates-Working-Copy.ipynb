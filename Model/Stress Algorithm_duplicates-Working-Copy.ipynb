{
 "cells": [
  {
   "cell_type": "code",
   "execution_count": 72,
   "metadata": {},
   "outputs": [],
   "source": [
    "import numpy as np\n",
    "import pandas as pd\n",
    "import math\n",
    "from itertools import combinations"
   ]
  },
  {
   "cell_type": "code",
   "execution_count": 73,
   "metadata": {},
   "outputs": [],
   "source": [
    "student_counts = pd.read_csv(\"data/student_counts.csv\")\n",
    "pair_counts = pd.read_csv(\"data/module_pairs.csv\")\n",
    "assignments = pd.read_csv(\"data/Assignments_with_clash.csv\")"
   ]
  },
  {
   "cell_type": "code",
   "execution_count": 74,
   "metadata": {},
   "outputs": [],
   "source": [
    "# Stress Score calculation = [weight['level']*level] + [weight['major']*major] + [weight['i_or_g']*i_or_g] + [weight['assignment_type']*assignment_type] + [weight['gap']*gap] + weightage/100\n",
    "# then standardize it to range 0 to 100"
   ]
  },
  {
   "cell_type": "code",
   "execution_count": 75,
   "metadata": {},
   "outputs": [],
   "source": [
    "# how important/stressful each of these factors are to students\n",
    "# sum to 10?\n",
    "# level: 1\n",
    "# major: 1\n",
    "# i_or_g: 2\n",
    "# assignment_type: 3\n",
    "# gap: 3"
   ]
  },
  {
   "cell_type": "code",
   "execution_count": 101,
   "metadata": {},
   "outputs": [
    {
     "ename": "SyntaxError",
     "evalue": "cannot assign to operator (<ipython-input-101-9fad56a85e33>, line 1)",
     "output_type": "error",
     "traceback": [
      "\u001b[0;36m  File \u001b[0;32m\"<ipython-input-101-9fad56a85e33>\"\u001b[0;36m, line \u001b[0;32m1\u001b[0m\n\u001b[0;31m    stress = [level_weights[\"level\"][level]*factor_weights[\"level\"]] + stress = [level_weights[\"i_or_g\"][i_or_g]*factor_weights[\"i_or_g\"]] + stress = [level_weights[\"assignment_type\"][assignment_type]*factor_weights[\"assignment_type\"]] + stress = [level_weights[\"gap\"][gap]*factor_weights[\"gap\"]]\u001b[0m\n\u001b[0m             ^\u001b[0m\n\u001b[0;31mSyntaxError\u001b[0m\u001b[0;31m:\u001b[0m cannot assign to operator\n"
     ]
    }
   ],
   "source": [
    "stress = [level_weights[\"level\"][level]*factor_weights[\"level\"]] + stress = [level_weights[\"i_or_g\"][i_or_g]*factor_weights[\"i_or_g\"]] + stress = [level_weights[\"assignment_type\"][assignment_type]*factor_weights[\"assignment_type\"]] + stress = [level_weights[\"gap\"][gap]*factor_weights[\"gap\"]]"
   ]
  },
  {
   "cell_type": "code",
   "execution_count": 77,
   "metadata": {},
   "outputs": [],
   "source": [
    "factor_weights = {\n",
    "    \"level\": 1,\n",
    "    \"i_or_g\": 2,\n",
    "    \"assignment_type\": 3,\n",
    "    \"gap\": 3\n",
    "}"
   ]
  },
  {
   "cell_type": "code",
   "execution_count": 78,
   "metadata": {},
   "outputs": [],
   "source": [
    "# how stressful each level within the factors are\n",
    "level_weights = {\n",
    "    \"level\": {\n",
    "        \"level_1k\": 0.1,\n",
    "        \"level_2k\": 0.2,\n",
    "        \"level_3k\": 0.3,\n",
    "        \"level_4k\": 0.4\n",
    "    },\n",
    "    \"i_or_g\": {\n",
    "        \"I\": 0.3,\n",
    "        \"G\": 0.4,\n",
    "        \"I&G\": 0.3\n",
    "    },\n",
    "    \"assignment_type\": {\n",
    "        \"Presentation\": 0.1,\n",
    "        \"Project\": 0.25,\n",
    "        \"Participation\": 0.05,\n",
    "        \"Quiz\": 0.1,\n",
    "        \"Assignment\": 0.15,\n",
    "        \"Exam\": 0.35\n",
    "    },\n",
    "    \"gap\": {\n",
    "        \"One Week\": 0.4,\n",
    "        \"Two Weeks\": 0.3,\n",
    "        \"More Than Two Weeks\": 0.15,\n",
    "        \"Others\": 0.15 # assume weight to be 0.2 if gap is not known eg. start date is NA\n",
    "    }\n",
    "}"
   ]
  },
  {
   "cell_type": "code",
   "execution_count": 79,
   "metadata": {},
   "outputs": [],
   "source": [
    "assignments[\"Start Date\"] = pd.to_datetime(assignments[\"Start Date\"])\n",
    "assignments[\"Due Date\"] = pd.to_datetime(assignments[\"Due Date\"])\n",
    "assignments.drop([\"Deadline Time\"], axis=1, inplace=True)\n",
    "assignments = assignments.sort_values(by=[\"Due Date\"], na_position=\"last\")"
   ]
  },
  {
   "cell_type": "code",
   "execution_count": 80,
   "metadata": {},
   "outputs": [
    {
     "data": {
      "text/html": [
       "<div>\n",
       "<style scoped>\n",
       "    .dataframe tbody tr th:only-of-type {\n",
       "        vertical-align: middle;\n",
       "    }\n",
       "\n",
       "    .dataframe tbody tr th {\n",
       "        vertical-align: top;\n",
       "    }\n",
       "\n",
       "    .dataframe thead th {\n",
       "        text-align: right;\n",
       "    }\n",
       "</style>\n",
       "<table border=\"1\" class=\"dataframe\">\n",
       "  <thead>\n",
       "    <tr style=\"text-align: right;\">\n",
       "      <th></th>\n",
       "      <th>Module Code</th>\n",
       "      <th>Semester</th>\n",
       "      <th>Assignment Name</th>\n",
       "      <th>Weightage</th>\n",
       "      <th>Assignment Type</th>\n",
       "      <th>Group or Individual</th>\n",
       "      <th>Start Date</th>\n",
       "      <th>Due Date</th>\n",
       "      <th>Level</th>\n",
       "      <th>Major</th>\n",
       "    </tr>\n",
       "  </thead>\n",
       "  <tbody>\n",
       "    <tr>\n",
       "      <th>4</th>\n",
       "      <td>DSA2101</td>\n",
       "      <td>2020</td>\n",
       "      <td>Quiz 1</td>\n",
       "      <td>5.0</td>\n",
       "      <td>Quiz</td>\n",
       "      <td>I</td>\n",
       "      <td>2021-01-12</td>\n",
       "      <td>2021-01-19</td>\n",
       "      <td>level_2k</td>\n",
       "      <td>DSA</td>\n",
       "    </tr>\n",
       "    <tr>\n",
       "      <th>5</th>\n",
       "      <td>DSA2101</td>\n",
       "      <td>2020</td>\n",
       "      <td>Assignment 1</td>\n",
       "      <td>2.5</td>\n",
       "      <td>Assignment</td>\n",
       "      <td>I</td>\n",
       "      <td>2021-01-19</td>\n",
       "      <td>2021-01-26</td>\n",
       "      <td>level_2k</td>\n",
       "      <td>DSA</td>\n",
       "    </tr>\n",
       "    <tr>\n",
       "      <th>6</th>\n",
       "      <td>DSA2101</td>\n",
       "      <td>2020</td>\n",
       "      <td>Assignment 2</td>\n",
       "      <td>2.5</td>\n",
       "      <td>Assignment</td>\n",
       "      <td>I</td>\n",
       "      <td>2021-02-09</td>\n",
       "      <td>2021-02-16</td>\n",
       "      <td>level_2k</td>\n",
       "      <td>DSA</td>\n",
       "    </tr>\n",
       "    <tr>\n",
       "      <th>9</th>\n",
       "      <td>DSA2101</td>\n",
       "      <td>2020</td>\n",
       "      <td>Take-Home Midterms</td>\n",
       "      <td>30.0</td>\n",
       "      <td>Assignment</td>\n",
       "      <td>I</td>\n",
       "      <td>2021-03-02</td>\n",
       "      <td>2021-03-06</td>\n",
       "      <td>level_2k</td>\n",
       "      <td>DSA</td>\n",
       "    </tr>\n",
       "    <tr>\n",
       "      <th>7</th>\n",
       "      <td>DSA2101</td>\n",
       "      <td>2020</td>\n",
       "      <td>Assignment 3</td>\n",
       "      <td>2.5</td>\n",
       "      <td>Assignment</td>\n",
       "      <td>I</td>\n",
       "      <td>NaT</td>\n",
       "      <td>2021-03-23</td>\n",
       "      <td>level_2k</td>\n",
       "      <td>DSA</td>\n",
       "    </tr>\n",
       "  </tbody>\n",
       "</table>\n",
       "</div>"
      ],
      "text/plain": [
       "  Module Code  Semester     Assignment Name  Weightage Assignment Type  \\\n",
       "4     DSA2101      2020              Quiz 1        5.0            Quiz   \n",
       "5     DSA2101      2020        Assignment 1        2.5      Assignment   \n",
       "6     DSA2101      2020        Assignment 2        2.5      Assignment   \n",
       "9     DSA2101      2020  Take-Home Midterms       30.0      Assignment   \n",
       "7     DSA2101      2020        Assignment 3        2.5      Assignment   \n",
       "\n",
       "  Group or Individual Start Date   Due Date     Level Major  \n",
       "4                   I 2021-01-12 2021-01-19  level_2k   DSA  \n",
       "5                   I 2021-01-19 2021-01-26  level_2k   DSA  \n",
       "6                   I 2021-02-09 2021-02-16  level_2k   DSA  \n",
       "9                   I 2021-03-02 2021-03-06  level_2k   DSA  \n",
       "7                   I        NaT 2021-03-23  level_2k   DSA  "
      ]
     },
     "execution_count": 80,
     "metadata": {},
     "output_type": "execute_result"
    }
   ],
   "source": [
    "assignments.head()"
   ]
  },
  {
   "cell_type": "code",
   "execution_count": 91,
   "metadata": {},
   "outputs": [],
   "source": [
    "#by_date = assignments.groupby(\"Due Date\").agg(max)\n",
    "#by_date"
   ]
  },
  {
   "cell_type": "code",
   "execution_count": 82,
   "metadata": {},
   "outputs": [],
   "source": [
    "#by_date = by_date.reset_index()\n",
    "#by_date"
   ]
  },
  {
   "cell_type": "markdown",
   "metadata": {},
   "source": [
    "# Individual Stress Score Per Assignment"
   ]
  },
  {
   "cell_type": "code",
   "execution_count": 83,
   "metadata": {},
   "outputs": [
    {
     "data": {
      "text/html": [
       "<div>\n",
       "<style scoped>\n",
       "    .dataframe tbody tr th:only-of-type {\n",
       "        vertical-align: middle;\n",
       "    }\n",
       "\n",
       "    .dataframe tbody tr th {\n",
       "        vertical-align: top;\n",
       "    }\n",
       "\n",
       "    .dataframe thead th {\n",
       "        text-align: right;\n",
       "    }\n",
       "</style>\n",
       "<table border=\"1\" class=\"dataframe\">\n",
       "  <thead>\n",
       "    <tr style=\"text-align: right;\">\n",
       "      <th></th>\n",
       "      <th>Module Code</th>\n",
       "      <th>Semester</th>\n",
       "      <th>Assignment Name</th>\n",
       "      <th>Weightage</th>\n",
       "      <th>Assignment Type</th>\n",
       "      <th>Group or Individual</th>\n",
       "      <th>Start Date</th>\n",
       "      <th>Due Date</th>\n",
       "      <th>Level</th>\n",
       "      <th>Major</th>\n",
       "    </tr>\n",
       "  </thead>\n",
       "  <tbody>\n",
       "    <tr>\n",
       "      <th>4</th>\n",
       "      <td>DSA2101</td>\n",
       "      <td>2020</td>\n",
       "      <td>Quiz 1</td>\n",
       "      <td>5.0</td>\n",
       "      <td>Quiz</td>\n",
       "      <td>I</td>\n",
       "      <td>2021-01-12</td>\n",
       "      <td>2021-01-19</td>\n",
       "      <td>level_2k</td>\n",
       "      <td>DSA</td>\n",
       "    </tr>\n",
       "    <tr>\n",
       "      <th>5</th>\n",
       "      <td>DSA2101</td>\n",
       "      <td>2020</td>\n",
       "      <td>Assignment 1</td>\n",
       "      <td>2.5</td>\n",
       "      <td>Assignment</td>\n",
       "      <td>I</td>\n",
       "      <td>2021-01-19</td>\n",
       "      <td>2021-01-26</td>\n",
       "      <td>level_2k</td>\n",
       "      <td>DSA</td>\n",
       "    </tr>\n",
       "    <tr>\n",
       "      <th>6</th>\n",
       "      <td>DSA2101</td>\n",
       "      <td>2020</td>\n",
       "      <td>Assignment 2</td>\n",
       "      <td>2.5</td>\n",
       "      <td>Assignment</td>\n",
       "      <td>I</td>\n",
       "      <td>2021-02-09</td>\n",
       "      <td>2021-02-16</td>\n",
       "      <td>level_2k</td>\n",
       "      <td>DSA</td>\n",
       "    </tr>\n",
       "    <tr>\n",
       "      <th>9</th>\n",
       "      <td>DSA2101</td>\n",
       "      <td>2020</td>\n",
       "      <td>Take-Home Midterms</td>\n",
       "      <td>30.0</td>\n",
       "      <td>Assignment</td>\n",
       "      <td>I</td>\n",
       "      <td>2021-03-02</td>\n",
       "      <td>2021-03-06</td>\n",
       "      <td>level_2k</td>\n",
       "      <td>DSA</td>\n",
       "    </tr>\n",
       "    <tr>\n",
       "      <th>7</th>\n",
       "      <td>DSA2101</td>\n",
       "      <td>2020</td>\n",
       "      <td>Assignment 3</td>\n",
       "      <td>2.5</td>\n",
       "      <td>Assignment</td>\n",
       "      <td>I</td>\n",
       "      <td>NaT</td>\n",
       "      <td>2021-03-23</td>\n",
       "      <td>level_2k</td>\n",
       "      <td>DSA</td>\n",
       "    </tr>\n",
       "    <tr>\n",
       "      <th>...</th>\n",
       "      <td>...</td>\n",
       "      <td>...</td>\n",
       "      <td>...</td>\n",
       "      <td>...</td>\n",
       "      <td>...</td>\n",
       "      <td>...</td>\n",
       "      <td>...</td>\n",
       "      <td>...</td>\n",
       "      <td>...</td>\n",
       "      <td>...</td>\n",
       "    </tr>\n",
       "    <tr>\n",
       "      <th>88</th>\n",
       "      <td>ST4253</td>\n",
       "      <td>2210</td>\n",
       "      <td>Participation</td>\n",
       "      <td>10.0</td>\n",
       "      <td>Participation</td>\n",
       "      <td>I</td>\n",
       "      <td>NaT</td>\n",
       "      <td>NaT</td>\n",
       "      <td>level_4k</td>\n",
       "      <td>ST</td>\n",
       "    </tr>\n",
       "    <tr>\n",
       "      <th>89</th>\n",
       "      <td>ST4253</td>\n",
       "      <td>2210</td>\n",
       "      <td>Tutorial Presentation</td>\n",
       "      <td>10.0</td>\n",
       "      <td>Presentation</td>\n",
       "      <td>I</td>\n",
       "      <td>NaT</td>\n",
       "      <td>NaT</td>\n",
       "      <td>level_4k</td>\n",
       "      <td>ST</td>\n",
       "    </tr>\n",
       "    <tr>\n",
       "      <th>102</th>\n",
       "      <td>ST4248</td>\n",
       "      <td>2220</td>\n",
       "      <td>Presentation</td>\n",
       "      <td>10.0</td>\n",
       "      <td>Presentation</td>\n",
       "      <td>G</td>\n",
       "      <td>NaT</td>\n",
       "      <td>NaT</td>\n",
       "      <td>level_4k</td>\n",
       "      <td>ST</td>\n",
       "    </tr>\n",
       "    <tr>\n",
       "      <th>104</th>\n",
       "      <td>ST3247</td>\n",
       "      <td>2220</td>\n",
       "      <td>Tutorial Attendance</td>\n",
       "      <td>10.0</td>\n",
       "      <td>Participation</td>\n",
       "      <td>I</td>\n",
       "      <td>NaT</td>\n",
       "      <td>NaT</td>\n",
       "      <td>level_3k</td>\n",
       "      <td>ST</td>\n",
       "    </tr>\n",
       "    <tr>\n",
       "      <th>108</th>\n",
       "      <td>ST3247</td>\n",
       "      <td>2220</td>\n",
       "      <td>Assignment 4</td>\n",
       "      <td>7.5</td>\n",
       "      <td>Assignment</td>\n",
       "      <td>I</td>\n",
       "      <td>NaT</td>\n",
       "      <td>NaT</td>\n",
       "      <td>level_3k</td>\n",
       "      <td>ST</td>\n",
       "    </tr>\n",
       "  </tbody>\n",
       "</table>\n",
       "<p>110 rows × 10 columns</p>\n",
       "</div>"
      ],
      "text/plain": [
       "    Module Code  Semester        Assignment Name  Weightage Assignment Type  \\\n",
       "4       DSA2101      2020                 Quiz 1        5.0            Quiz   \n",
       "5       DSA2101      2020           Assignment 1        2.5      Assignment   \n",
       "6       DSA2101      2020           Assignment 2        2.5      Assignment   \n",
       "9       DSA2101      2020     Take-Home Midterms       30.0      Assignment   \n",
       "7       DSA2101      2020           Assignment 3        2.5      Assignment   \n",
       "..          ...       ...                    ...        ...             ...   \n",
       "88       ST4253      2210          Participation       10.0   Participation   \n",
       "89       ST4253      2210  Tutorial Presentation       10.0    Presentation   \n",
       "102      ST4248      2220           Presentation       10.0    Presentation   \n",
       "104      ST3247      2220    Tutorial Attendance       10.0   Participation   \n",
       "108      ST3247      2220           Assignment 4        7.5      Assignment   \n",
       "\n",
       "    Group or Individual Start Date   Due Date     Level Major  \n",
       "4                     I 2021-01-12 2021-01-19  level_2k   DSA  \n",
       "5                     I 2021-01-19 2021-01-26  level_2k   DSA  \n",
       "6                     I 2021-02-09 2021-02-16  level_2k   DSA  \n",
       "9                     I 2021-03-02 2021-03-06  level_2k   DSA  \n",
       "7                     I        NaT 2021-03-23  level_2k   DSA  \n",
       "..                  ...        ...        ...       ...   ...  \n",
       "88                    I        NaT        NaT  level_4k    ST  \n",
       "89                    I        NaT        NaT  level_4k    ST  \n",
       "102                   G        NaT        NaT  level_4k    ST  \n",
       "104                   I        NaT        NaT  level_3k    ST  \n",
       "108                   I        NaT        NaT  level_3k    ST  \n",
       "\n",
       "[110 rows x 10 columns]"
      ]
     },
     "execution_count": 83,
     "metadata": {},
     "output_type": "execute_result"
    }
   ],
   "source": [
    "# without getting max from each date group\n",
    "by_date = assignments\n",
    "by_date"
   ]
  },
  {
   "cell_type": "markdown",
   "metadata": {},
   "source": [
    "### Assumptions"
   ]
  },
  {
   "cell_type": "code",
   "execution_count": 88,
   "metadata": {},
   "outputs": [],
   "source": [
    "# [IGNORE]\n",
    "\n",
    "# min_weightage = by_date[\"Weightage\"].min()\n",
    "# min weightage based on data is 2 but we assume that outside of the data, there exists graded components that are 0.5%,\n",
    "# 0.5% would be the lowest weightage for any graded component\n",
    "\n",
    "# max_weightage = by_date[\"Weightage\"].max()\n",
    "# max weightage is 70 based on the data\n",
    "# we will assume that weightage for any graded components will not exceed 70% based on department's guidelines\n",
    "\n",
    "#min_weightage = 0.5\n",
    "#max_weightage = 70\n",
    "\n",
    "# max_stress is assuming that this is the maximum possible stress for a student,so we use the highest weights for each factor\n",
    "# same for min_stress, we use the lowest weights for each factor\n",
    "#min_stress = min_weightage/100 * 0.1 * 3 + 0.3 * 2 + 0.1 * 1 + 0.4 * 1 + 0.15 * 3\n",
    "#max_stress = max_weightage/100* 0.35 * 3 + 0.4 * 2 + 0.4 * 1 + 0.6 * 1 + 0.4 * 3\n",
    "\n",
    "def normalized_score(score):\n",
    "    return (score - min_stress)/(max_stress - min_stress)*10"
   ]
  },
  {
   "cell_type": "code",
   "execution_count": 89,
   "metadata": {},
   "outputs": [],
   "source": [
    "def get_gap(due_date, start_date):\n",
    "    if pd.isnull(start_date):\n",
    "        return \"Others\"\n",
    "    else:\n",
    "        gap = (due_date - start_date).days\n",
    "        if gap <= 7:\n",
    "            return \"One Week\"\n",
    "        elif gap <= 14:\n",
    "            return \"Two Weeks\"\n",
    "        else:\n",
    "            return \"More Than Two Weeks\""
   ]
  },
  {
   "cell_type": "code",
   "execution_count": null,
   "metadata": {},
   "outputs": [],
   "source": []
  },
  {
   "cell_type": "code",
   "execution_count": 94,
   "metadata": {},
   "outputs": [],
   "source": [
    "#changed to func\n",
    "\n",
    "def stress_by_date(by_date):\n",
    "    for i in range(0, len(by_date)):\n",
    "        weightage = by_date.loc[i,\"Weightage\"]\n",
    "        assignment_type = by_date.loc[i,\"Assignment Type\"]\n",
    "        i_g = by_date.loc[i,\"Group or Individual\"]\n",
    "        level = by_date.loc[i,\"Level\"]\n",
    "        major = by_date.loc[i,\"Major\"]\n",
    "        gap = get_gap(by_date.loc[i,\"Due Date\"], by_date.loc[i,\"Start Date\"])\n",
    "        stress_score = weightage/100*weights['assignment_type'][assignment_type] * 3 + weights['i_or_g'][i_g] * 2 + weights['level'][level] * 1 + weights['major'][major] * 1 + weights['gap'][gap] * 3\n",
    "        normalized_stress = normalized_score(stress_score)\n",
    "        #stress.append(normalized_score)\n",
    "        by_date.loc[i, \"Stress\"] = normalized_stress\n",
    "    return by_date\n",
    "\n",
    "\n",
    "\n"
   ]
  },
  {
   "cell_type": "code",
   "execution_count": 95,
   "metadata": {},
   "outputs": [
    {
     "data": {
      "text/html": [
       "<div>\n",
       "<style scoped>\n",
       "    .dataframe tbody tr th:only-of-type {\n",
       "        vertical-align: middle;\n",
       "    }\n",
       "\n",
       "    .dataframe tbody tr th {\n",
       "        vertical-align: top;\n",
       "    }\n",
       "\n",
       "    .dataframe thead th {\n",
       "        text-align: right;\n",
       "    }\n",
       "</style>\n",
       "<table border=\"1\" class=\"dataframe\">\n",
       "  <thead>\n",
       "    <tr style=\"text-align: right;\">\n",
       "      <th></th>\n",
       "      <th>Module Code</th>\n",
       "      <th>Semester</th>\n",
       "      <th>Assignment Name</th>\n",
       "      <th>Weightage</th>\n",
       "      <th>Assignment Type</th>\n",
       "      <th>Group or Individual</th>\n",
       "      <th>Start Date</th>\n",
       "      <th>Due Date</th>\n",
       "      <th>Level</th>\n",
       "      <th>Major</th>\n",
       "    </tr>\n",
       "  </thead>\n",
       "  <tbody>\n",
       "    <tr>\n",
       "      <th>4</th>\n",
       "      <td>DSA2101</td>\n",
       "      <td>2020</td>\n",
       "      <td>Quiz 1</td>\n",
       "      <td>5.0</td>\n",
       "      <td>Quiz</td>\n",
       "      <td>I</td>\n",
       "      <td>2021-01-12</td>\n",
       "      <td>2021-01-19</td>\n",
       "      <td>level_2k</td>\n",
       "      <td>DSA</td>\n",
       "    </tr>\n",
       "    <tr>\n",
       "      <th>5</th>\n",
       "      <td>DSA2101</td>\n",
       "      <td>2020</td>\n",
       "      <td>Assignment 1</td>\n",
       "      <td>2.5</td>\n",
       "      <td>Assignment</td>\n",
       "      <td>I</td>\n",
       "      <td>2021-01-19</td>\n",
       "      <td>2021-01-26</td>\n",
       "      <td>level_2k</td>\n",
       "      <td>DSA</td>\n",
       "    </tr>\n",
       "    <tr>\n",
       "      <th>6</th>\n",
       "      <td>DSA2101</td>\n",
       "      <td>2020</td>\n",
       "      <td>Assignment 2</td>\n",
       "      <td>2.5</td>\n",
       "      <td>Assignment</td>\n",
       "      <td>I</td>\n",
       "      <td>2021-02-09</td>\n",
       "      <td>2021-02-16</td>\n",
       "      <td>level_2k</td>\n",
       "      <td>DSA</td>\n",
       "    </tr>\n",
       "    <tr>\n",
       "      <th>9</th>\n",
       "      <td>DSA2101</td>\n",
       "      <td>2020</td>\n",
       "      <td>Take-Home Midterms</td>\n",
       "      <td>30.0</td>\n",
       "      <td>Assignment</td>\n",
       "      <td>I</td>\n",
       "      <td>2021-03-02</td>\n",
       "      <td>2021-03-06</td>\n",
       "      <td>level_2k</td>\n",
       "      <td>DSA</td>\n",
       "    </tr>\n",
       "    <tr>\n",
       "      <th>7</th>\n",
       "      <td>DSA2101</td>\n",
       "      <td>2020</td>\n",
       "      <td>Assignment 3</td>\n",
       "      <td>2.5</td>\n",
       "      <td>Assignment</td>\n",
       "      <td>I</td>\n",
       "      <td>NaT</td>\n",
       "      <td>2021-03-23</td>\n",
       "      <td>level_2k</td>\n",
       "      <td>DSA</td>\n",
       "    </tr>\n",
       "    <tr>\n",
       "      <th>...</th>\n",
       "      <td>...</td>\n",
       "      <td>...</td>\n",
       "      <td>...</td>\n",
       "      <td>...</td>\n",
       "      <td>...</td>\n",
       "      <td>...</td>\n",
       "      <td>...</td>\n",
       "      <td>...</td>\n",
       "      <td>...</td>\n",
       "      <td>...</td>\n",
       "    </tr>\n",
       "    <tr>\n",
       "      <th>88</th>\n",
       "      <td>ST4253</td>\n",
       "      <td>2210</td>\n",
       "      <td>Participation</td>\n",
       "      <td>10.0</td>\n",
       "      <td>Participation</td>\n",
       "      <td>I</td>\n",
       "      <td>NaT</td>\n",
       "      <td>NaT</td>\n",
       "      <td>level_4k</td>\n",
       "      <td>ST</td>\n",
       "    </tr>\n",
       "    <tr>\n",
       "      <th>89</th>\n",
       "      <td>ST4253</td>\n",
       "      <td>2210</td>\n",
       "      <td>Tutorial Presentation</td>\n",
       "      <td>10.0</td>\n",
       "      <td>Presentation</td>\n",
       "      <td>I</td>\n",
       "      <td>NaT</td>\n",
       "      <td>NaT</td>\n",
       "      <td>level_4k</td>\n",
       "      <td>ST</td>\n",
       "    </tr>\n",
       "    <tr>\n",
       "      <th>102</th>\n",
       "      <td>ST4248</td>\n",
       "      <td>2220</td>\n",
       "      <td>Presentation</td>\n",
       "      <td>10.0</td>\n",
       "      <td>Presentation</td>\n",
       "      <td>G</td>\n",
       "      <td>NaT</td>\n",
       "      <td>NaT</td>\n",
       "      <td>level_4k</td>\n",
       "      <td>ST</td>\n",
       "    </tr>\n",
       "    <tr>\n",
       "      <th>104</th>\n",
       "      <td>ST3247</td>\n",
       "      <td>2220</td>\n",
       "      <td>Tutorial Attendance</td>\n",
       "      <td>10.0</td>\n",
       "      <td>Participation</td>\n",
       "      <td>I</td>\n",
       "      <td>NaT</td>\n",
       "      <td>NaT</td>\n",
       "      <td>level_3k</td>\n",
       "      <td>ST</td>\n",
       "    </tr>\n",
       "    <tr>\n",
       "      <th>108</th>\n",
       "      <td>ST3247</td>\n",
       "      <td>2220</td>\n",
       "      <td>Assignment 4</td>\n",
       "      <td>7.5</td>\n",
       "      <td>Assignment</td>\n",
       "      <td>I</td>\n",
       "      <td>NaT</td>\n",
       "      <td>NaT</td>\n",
       "      <td>level_3k</td>\n",
       "      <td>ST</td>\n",
       "    </tr>\n",
       "  </tbody>\n",
       "</table>\n",
       "<p>110 rows × 10 columns</p>\n",
       "</div>"
      ],
      "text/plain": [
       "    Module Code  Semester        Assignment Name  Weightage Assignment Type  \\\n",
       "4       DSA2101      2020                 Quiz 1        5.0            Quiz   \n",
       "5       DSA2101      2020           Assignment 1        2.5      Assignment   \n",
       "6       DSA2101      2020           Assignment 2        2.5      Assignment   \n",
       "9       DSA2101      2020     Take-Home Midterms       30.0      Assignment   \n",
       "7       DSA2101      2020           Assignment 3        2.5      Assignment   \n",
       "..          ...       ...                    ...        ...             ...   \n",
       "88       ST4253      2210          Participation       10.0   Participation   \n",
       "89       ST4253      2210  Tutorial Presentation       10.0    Presentation   \n",
       "102      ST4248      2220           Presentation       10.0    Presentation   \n",
       "104      ST3247      2220    Tutorial Attendance       10.0   Participation   \n",
       "108      ST3247      2220           Assignment 4        7.5      Assignment   \n",
       "\n",
       "    Group or Individual Start Date   Due Date     Level Major  \n",
       "4                     I 2021-01-12 2021-01-19  level_2k   DSA  \n",
       "5                     I 2021-01-19 2021-01-26  level_2k   DSA  \n",
       "6                     I 2021-02-09 2021-02-16  level_2k   DSA  \n",
       "9                     I 2021-03-02 2021-03-06  level_2k   DSA  \n",
       "7                     I        NaT 2021-03-23  level_2k   DSA  \n",
       "..                  ...        ...        ...       ...   ...  \n",
       "88                    I        NaT        NaT  level_4k    ST  \n",
       "89                    I        NaT        NaT  level_4k    ST  \n",
       "102                   G        NaT        NaT  level_4k    ST  \n",
       "104                   I        NaT        NaT  level_3k    ST  \n",
       "108                   I        NaT        NaT  level_3k    ST  \n",
       "\n",
       "[110 rows x 10 columns]"
      ]
     },
     "execution_count": 95,
     "metadata": {},
     "output_type": "execute_result"
    }
   ],
   "source": [
    "by_date"
   ]
  },
  {
   "cell_type": "code",
   "execution_count": null,
   "metadata": {},
   "outputs": [],
   "source": [
    "# sum of stress scores on each day & list of module codes\n",
    "agg_func = lambda x: list(set(x))\n",
    "agg_func2 = lambda x: list(set(x)).reverse()\n",
    "#by_date.groupby('Due Date').agg({'Semester': max, 'Stress': agg_func, 'Module Code': agg_func})"
   ]
  },
  {
   "cell_type": "markdown",
   "metadata": {},
   "source": [
    "# Pairwise Stress Score Calculations for Clashes"
   ]
  },
  {
   "cell_type": "markdown",
   "metadata": {},
   "source": [
    "## For the case of 2 clashes"
   ]
  },
  {
   "cell_type": "code",
   "execution_count": null,
   "metadata": {},
   "outputs": [],
   "source": [
    "# view dates with multiple assignments\n",
    "multiples = by_date.groupby('Due Date').filter(lambda x: len(x) > 1)\n",
    "multiples"
   ]
  },
  {
   "cell_type": "code",
   "execution_count": null,
   "metadata": {},
   "outputs": [],
   "source": [
    "# view dates with 2 assignments\n",
    "duplicates = by_date.groupby('Due Date').filter(lambda x: len(x) == 2)\n",
    "duplicates"
   ]
  },
  {
   "cell_type": "code",
   "execution_count": null,
   "metadata": {},
   "outputs": [],
   "source": [
    "def reverse_list(lst):\n",
    "    return lst[::-1]\n",
    "\n",
    "df = duplicates.groupby('Due Date').agg({'Semester': max, 'Stress': agg_func, 'Module Code': agg_func})\n",
    "df['Module Code'] = df['Module Code'].apply(reverse_list)\n",
    "df[['Module 1', 'Module 2']] = pd.DataFrame(df['Module Code'].tolist(), index=df.index)\n",
    "df.drop('Module Code', axis=1, inplace=True)\n",
    "df = df.reset_index()\n",
    "df"
   ]
  },
  {
   "cell_type": "code",
   "execution_count": null,
   "metadata": {},
   "outputs": [],
   "source": [
    "df = df.merge(pair_counts, how='left', on=['Semester', 'Module 1', 'Module 2'])"
   ]
  },
  {
   "cell_type": "code",
   "execution_count": null,
   "metadata": {},
   "outputs": [],
   "source": [
    "df = pd.merge(df, student_counts, left_on=['Semester', 'Module 1'], right_on=['sem', 'code'], how = 'left')"
   ]
  },
  {
   "cell_type": "code",
   "execution_count": null,
   "metadata": {},
   "outputs": [],
   "source": [
    "df = pd.merge(df, student_counts, left_on=['Semester', 'Module 2'], right_on=['sem', 'code'], how = 'left')\n",
    "df"
   ]
  },
  {
   "cell_type": "code",
   "execution_count": null,
   "metadata": {},
   "outputs": [],
   "source": [
    "df.rename(columns={\"n_x\":\"Module 1 Count\", \"n_y\":\"Module 2 Count\", \"Count\":\"Pair Count\"}, inplace=True)\n",
    "df.drop([\"sem_x\", \"sem_y\", \"code_x\", \"code_y\"], axis=1, inplace=True)\n",
    "df"
   ]
  },
  {
   "cell_type": "code",
   "execution_count": null,
   "metadata": {},
   "outputs": [],
   "source": [
    "min_pairwise = min_stress\n",
    "max_pairwise = 1*(2*max_stress)+max_stress\n",
    "# for max pairwise stress score, we assume that the proportion of students with clashes is 1 (everyone is affected by clash)\n",
    "# and that the individual stress score for each module is the max individual stress score\n",
    "\n",
    "#def normalized_score(pairwise_stress):\n",
    "#    return (pairwise_stress - min_pairwise)/(max_pairwise - min_pairwise)*100"
   ]
  },
  {
   "cell_type": "code",
   "execution_count": null,
   "metadata": {},
   "outputs": [],
   "source": [
    "# pairwise stress score\n",
    "# pairwise_stress = (pair_count)/(student_count)*[sum of stress for both modules] + [stress for that module]\n",
    "\n",
    "# example of the clash at index 4. since the interface only shows the modules that the prof are currently teaching,\n",
    "# ST3248 prof will only be concerned about the stress level for his own students (ST3248), so the stress score that\n",
    "# will show up on the interface should be calculated based on the proportion of his students (ST3248) that have clashes\n",
    "\n",
    "# eg. for ST3248\n",
    "# pairwise_stress = 25/128 * (2.91+3.12) + 2.91\n",
    "\n",
    "# if pair counts or student counts are NaN,\n",
    "# was going to assume the mean value of pair counts for the 2 corresponding modules based on past semesters,\n",
    "# but seems like it's not possible because there's completely no past data on past pair counts, neither are there\n",
    "# any data for the individual module count too.\n",
    "\n",
    "# instead, we assume that the pair counts is the value of the avg pair counts, same for student counts.\n",
    "\n",
    "# disclaimer\n",
    "# with the above assumption, stress scores may be wrong for calculations for cases where one module is a\n",
    "# prerequisite for another, eg. dsa1101 and dsa4211. this can be accounted for with more data\n",
    "\n",
    "def get_pairwise_stress(data, date, module):\n",
    "    index = data[data['Due Date'] == date].index.values[0]\n",
    "    stress_list = data.loc[index,\"Stress\"]\n",
    "    if (data.loc[index, 'Module 1'] == module):\n",
    "        if (math.isnan(data.loc[index, 'Module 1 Count']) | math.isnan(data.loc[index, 'Pair Count'])):\n",
    "            pairwise_stress = data['Pair Count'].mean()/data['Module 1 Count'].mean()*sum(stress_list)+stress_list[0]\n",
    "        else:\n",
    "            pairwise_stress = data.loc[index, 'Pair Count']/data.loc[index, 'Module 1 Count']*sum(stress_list)+stress_list[0]\n",
    "    else:\n",
    "        if (math.isnan(data.loc[index, 'Module 2 Count']) | math.isnan(data.loc[index, 'Pair Count'])):\n",
    "            pairwise_stress = data['Pair Count'].mean()/data['Module 2 Count'].mean()*sum(stress_list)+stress_list[1]\n",
    "        else:\n",
    "            pairwise_stress = data.loc[index, 'Pair Count']/data.loc[index, 'Module 2 Count']*sum(stress_list)+stress_list[1]\n",
    "    return pairwise_stress"
   ]
  },
  {
   "cell_type": "code",
   "execution_count": 97,
   "metadata": {
    "scrolled": true
   },
   "outputs": [],
   "source": [
    "#Created function for pairwise stress table\n",
    "\n",
    "def pairwise_stress(df):\n",
    "    for i in range(0, len(df)):\n",
    "        date = df.loc[i,\"Due Date\"]\n",
    "        module1 = df.loc[i,\"Module 1\"]\n",
    "        module2 = df.loc[i,\"Module 2\"]\n",
    "        df.loc[i, \"Module 1 Pair Stress\"] = get_pairwise_stress(df, date, module1)\n",
    "        df.loc[i, \"Module 2 Pair Stress\"] = get_pairwise_stress(df, date, module2)\n",
    "    return df\n",
    "    \n",
    "    "
   ]
  },
  {
   "cell_type": "code",
   "execution_count": 96,
   "metadata": {
    "scrolled": true
   },
   "outputs": [
    {
     "ename": "NameError",
     "evalue": "name 'df' is not defined",
     "output_type": "error",
     "traceback": [
      "\u001b[0;31m---------------------------------------------------------------------------\u001b[0m",
      "\u001b[0;31mNameError\u001b[0m                                 Traceback (most recent call last)",
      "\u001b[0;32m<ipython-input-96-00cf07b74dcd>\u001b[0m in \u001b[0;36m<module>\u001b[0;34m\u001b[0m\n\u001b[0;32m----> 1\u001b[0;31m \u001b[0mdf\u001b[0m\u001b[0;34m\u001b[0m\u001b[0;34m\u001b[0m\u001b[0m\n\u001b[0m",
      "\u001b[0;31mNameError\u001b[0m: name 'df' is not defined"
     ]
    }
   ],
   "source": [
    "df"
   ]
  },
  {
   "cell_type": "markdown",
   "metadata": {},
   "source": [
    "Some example clashes when thinking of thresholds later:\n",
    "\n",
    "Observation 2:\n",
    "- ST4231, 20% Exam, 25/93=0.27 affected by clash (stress = 29)\n",
    "- DSA4211, 20% Exam, 25/146=0.17 affected by clash (stress = 25)\n",
    "\n",
    "Observation 7:\n",
    "- ST3247, 7.5% Assignment, 22/114=0.19 affected by clash (stress = 23)\n",
    "- ST4248, 10% Project, 22/62=0.35 affected by clash (stress = 13)\n",
    "\n",
    "Observation 0:\n",
    "- DSA2102, 4% Assignment (stress = 7)\n",
    "- DSA2101, 2% Assignment (stress = 5)"
   ]
  },
  {
   "cell_type": "code",
   "execution_count": null,
   "metadata": {},
   "outputs": [],
   "source": [
    "# when linking to front-end,\n",
    "# given a date, extract either 'Module 1 Pair Stress' or 'Module 2 Pair Stress', depending on whether the user's module\n",
    "# falls under Module 1 or Module 2."
   ]
  },
  {
   "cell_type": "markdown",
   "metadata": {},
   "source": [
    "## For the case of >2 clashes"
   ]
  },
  {
   "cell_type": "code",
   "execution_count": null,
   "metadata": {},
   "outputs": [],
   "source": [
    "duplicates2 = by_date.groupby('Due Date').filter(lambda x: len(x) > 2)\n",
    "duplicates2"
   ]
  },
  {
   "cell_type": "code",
   "execution_count": null,
   "metadata": {
    "scrolled": true
   },
   "outputs": [],
   "source": [
    "dates = list(duplicates2['Due Date'].unique())\n",
    "assignments = list(duplicates2.index)\n",
    "assignment_combinations = list(combinations(assignments, 2))\n",
    "\n",
    "data = []\n",
    "for date in dates:\n",
    "    for comb in assignment_combinations:\n",
    "        assignment1 = comb[0]\n",
    "        assignment2 = comb[1]\n",
    "        scores = duplicates2.loc[duplicates2.index.isin([assignment1, assignment2]),'Stress'].tolist()\n",
    "        modules = duplicates2.loc[duplicates2.index.isin([assignment1, assignment2]),'Module Code'].tolist()\n",
    "        semester = duplicates2.loc[assignment1, \"Semester\"].tolist()\n",
    "        data.append({'Due Date': date, 'Semester': semester, 'Module Code': modules, 'Assignment Index': [assignment1, assignment2], 'Stress': scores})\n",
    "\n",
    "df2 = pd.DataFrame(data)\n",
    "df2"
   ]
  },
  {
   "cell_type": "code",
   "execution_count": null,
   "metadata": {
    "scrolled": true
   },
   "outputs": [],
   "source": [
    "df2[['Module 1', 'Module 2']] = pd.DataFrame(df2['Module Code'].tolist(), index=df2.index)\n",
    "df2.drop('Module Code', axis=1, inplace=True)\n",
    "df2 = df2.reset_index()\n",
    "df2"
   ]
  },
  {
   "cell_type": "code",
   "execution_count": null,
   "metadata": {},
   "outputs": [],
   "source": [
    "df2 = df2.merge(pair_counts, how='left', on=['Semester', 'Module 1', 'Module 2'])"
   ]
  },
  {
   "cell_type": "code",
   "execution_count": null,
   "metadata": {},
   "outputs": [],
   "source": [
    "df2 = pd.merge(df2, student_counts, left_on=['Semester', 'Module 1'], right_on=['sem', 'code'], how = 'left')"
   ]
  },
  {
   "cell_type": "code",
   "execution_count": null,
   "metadata": {},
   "outputs": [],
   "source": [
    "df2 = pd.merge(df2, student_counts, left_on=['Semester', 'Module 2'], right_on=['sem', 'code'], how = 'left')\n",
    "df2"
   ]
  },
  {
   "cell_type": "code",
   "execution_count": null,
   "metadata": {},
   "outputs": [],
   "source": [
    "df2.rename(columns={\"n_x\":\"Module 1 Count\", \"n_y\":\"Module 2 Count\", \"Count\":\"Pair Count\"}, inplace=True)\n",
    "df2.drop([\"sem_x\", \"sem_y\", \"code_x\", \"code_y\"], axis=1, inplace=True)\n",
    "df2"
   ]
  },
  {
   "cell_type": "code",
   "execution_count": 100,
   "metadata": {},
   "outputs": [],
   "source": [
    "def pairwise_stress_over_dates(df2):\n",
    "    for i in range(0, len(df2)):\n",
    "        date = df2.loc[i,\"Due Date\"]\n",
    "        module1 = df2.loc[i,\"Module 1\"]\n",
    "        module2 = df2.loc[i,\"Module 2\"]\n",
    "        df2.loc[i, \"Module 1 Pair Stress\"] = get_pairwise_stress(df2, date, module1)\n",
    "        df2.loc[i, \"Module 2 Pair Stress\"] = get_pairwise_stress(df2, date, module2)\n",
    "    return df2"
   ]
  },
  {
   "cell_type": "code",
   "execution_count": 99,
   "metadata": {
    "scrolled": false
   },
   "outputs": [
    {
     "ename": "NameError",
     "evalue": "name 'df' is not defined",
     "output_type": "error",
     "traceback": [
      "\u001b[0;31m---------------------------------------------------------------------------\u001b[0m",
      "\u001b[0;31mNameError\u001b[0m                                 Traceback (most recent call last)",
      "\u001b[0;32m<ipython-input-99-00cf07b74dcd>\u001b[0m in \u001b[0;36m<module>\u001b[0;34m\u001b[0m\n\u001b[0;32m----> 1\u001b[0;31m \u001b[0mdf\u001b[0m\u001b[0;34m\u001b[0m\u001b[0;34m\u001b[0m\u001b[0m\n\u001b[0m",
      "\u001b[0;31mNameError\u001b[0m: name 'df' is not defined"
     ]
    }
   ],
   "source": [
    "df"
   ]
  },
  {
   "cell_type": "markdown",
   "metadata": {},
   "source": [
    "## Combining the above 2 (For >= 2 clashes)"
   ]
  },
  {
   "cell_type": "code",
   "execution_count": null,
   "metadata": {},
   "outputs": [],
   "source": [
    "duplicates3 = by_date.groupby('Due Date').filter(lambda x: len(x) >= 2)\n",
    "duplicates3"
   ]
  },
  {
   "cell_type": "code",
   "execution_count": null,
   "metadata": {
    "scrolled": true
   },
   "outputs": [],
   "source": [
    "dates = list(duplicates3['Due Date'].unique())\n",
    "#assignments = list(duplicates3.index)\n",
    "#assignment_combinations = list(combinations(assignments, 2))\n",
    "\n",
    "data = []\n",
    "for date in dates:\n",
    "    assignments = list(duplicates3[duplicates3['Due Date'] ==date].index)\n",
    "    assignment_combinations = list(combinations(assignments, 2))\n",
    "    for comb in assignment_combinations:\n",
    "        assignment1 = comb[0]\n",
    "        assignment2 = comb[1]\n",
    "        scores = duplicates3.loc[duplicates3.index.isin([assignment1, assignment2]),'Stress'].tolist()\n",
    "        modules = duplicates3.loc[duplicates3.index.isin([assignment1, assignment2]),'Module Code'].tolist()\n",
    "        semester = duplicates3.loc[assignment1, \"Semester\"].tolist()\n",
    "        data.append({'Due Date': date, 'Semester': semester, 'Module Code': modules, 'Assignment Index': [assignment1, assignment2], 'Stress': scores})\n",
    "\n",
    "df3 = pd.DataFrame(data)\n",
    "df3"
   ]
  },
  {
   "cell_type": "code",
   "execution_count": null,
   "metadata": {
    "scrolled": true
   },
   "outputs": [],
   "source": [
    "df3[['Module 1', 'Module 2']] = pd.DataFrame(df3['Module Code'].tolist(), index=df3.index)\n",
    "df3.drop('Module Code', axis=1, inplace=True)\n",
    "df3"
   ]
  },
  {
   "cell_type": "code",
   "execution_count": null,
   "metadata": {},
   "outputs": [],
   "source": [
    "df3 = df3.merge(pair_counts, how='left', on=['Semester', 'Module 1', 'Module 2'])"
   ]
  },
  {
   "cell_type": "code",
   "execution_count": null,
   "metadata": {},
   "outputs": [],
   "source": [
    "df3 = pd.merge(df3, student_counts, left_on=['Semester', 'Module 1'], right_on=['sem', 'code'], how = 'left')"
   ]
  },
  {
   "cell_type": "code",
   "execution_count": null,
   "metadata": {},
   "outputs": [],
   "source": [
    "df3 = pd.merge(df3, student_counts, left_on=['Semester', 'Module 2'], right_on=['sem', 'code'], how = 'left')\n",
    "df3"
   ]
  },
  {
   "cell_type": "code",
   "execution_count": null,
   "metadata": {},
   "outputs": [],
   "source": [
    "df3.rename(columns={\"n_x\":\"Module 1 Count\", \"n_y\":\"Module 2 Count\", \"Count\":\"Pair Count\"}, inplace=True)\n",
    "df3.drop([\"sem_x\", \"sem_y\", \"code_x\", \"code_y\"], axis=1, inplace=True)\n",
    "df3"
   ]
  },
  {
   "cell_type": "code",
   "execution_count": null,
   "metadata": {},
   "outputs": [],
   "source": [
    "for i in range(0, len(df3)):\n",
    "    date = df3.loc[i,\"Due Date\"]\n",
    "    module1 = df3.loc[i,\"Module 1\"]\n",
    "    module2 = df3.loc[i,\"Module 2\"]\n",
    "    df3.loc[i, \"Module 1 Pair Stress\"] = get_pairwise_stress(df3, date, module1)\n",
    "    df3.loc[i, \"Module 2 Pair Stress\"] = get_pairwise_stress(df3, date, module2)"
   ]
  },
  {
   "cell_type": "code",
   "execution_count": null,
   "metadata": {
    "scrolled": false
   },
   "outputs": [],
   "source": [
    "df3"
   ]
  },
  {
   "cell_type": "markdown",
   "metadata": {},
   "source": [
    "# K-Means (not very helpful)"
   ]
  },
  {
   "cell_type": "code",
   "execution_count": null,
   "metadata": {},
   "outputs": [],
   "source": [
    "by_date['Gap'] = by_date.apply(lambda x: get_gap(x[\"Due Date\"], x[\"Start Date\"]), axis = 1)\n",
    "by_date = by_date.drop(['Start Date', 'Due Date'], axis=1)\n",
    "by_date"
   ]
  },
  {
   "cell_type": "code",
   "execution_count": null,
   "metadata": {},
   "outputs": [],
   "source": [
    "import pandas as pd\n",
    "import numpy as np\n",
    "import matplotlib.pyplot as plt\n",
    "from sklearn.cluster import KMeans\n",
    "from sklearn.preprocessing import StandardScaler\n",
    "\n",
    "# Load the data\n",
    "data = by_date\n",
    "\n",
    "# Preprocess the data using one hot encoding\n",
    "categorical_cols = ['Assignment Type', 'Group or Individual', 'Level', 'Major', 'Gap']\n",
    "for col in categorical_cols:\n",
    "    one_hot = pd.get_dummies(data[col], prefix=col)\n",
    "    data = data.drop(col, axis=1)\n",
    "    data = pd.concat([data, one_hot], axis=1)\n",
    "\n",
    "data = data.drop(['Semester', 'Weightage', 'Stress'], axis=1)\n",
    "data\n",
    "\n",
    "X = data.iloc[:, 2:]\n",
    "X"
   ]
  },
  {
   "cell_type": "code",
   "execution_count": null,
   "metadata": {},
   "outputs": [],
   "source": [
    "# Determine the optimal number of clusters using the elbow method\n",
    "wcss = []\n",
    "for i in range(1, 11):\n",
    "    kmeans = KMeans(n_clusters=i, init='k-means++', random_state=42)\n",
    "    kmeans.fit(X)\n",
    "    wcss.append(kmeans.inertia_)\n",
    "plt.plot(range(1, 11), wcss)\n",
    "plt.title('Elbow Method')\n",
    "plt.xlabel('Number of Clusters')\n",
    "plt.ylabel('WCSS')\n",
    "plt.show()\n",
    "\n",
    "# WCSS keeps decreasing with increasing k"
   ]
  },
  {
   "cell_type": "code",
   "execution_count": null,
   "metadata": {},
   "outputs": [],
   "source": [
    "# Initialize the KMeans model with k number of clusters\n",
    "kmeans = KMeans(n_clusters=6, init='k-means++', random_state=42)\n",
    "\n",
    "# Fit the model to the data\n",
    "kmeans.fit(X)\n",
    "\n",
    "# Get the cluster labels\n",
    "labels = kmeans.labels_\n",
    "\n",
    "# Add the labels to the original data\n",
    "data['cluster'] = labels\n",
    "\n",
    "# Visualize the clusters\n",
    "plt.scatter(by_date['Assignment Type'], by_date['Gap'], c=labels)\n",
    "plt.xlabel('Assignment Type')\n",
    "plt.ylabel('Gap')\n",
    "plt.show()\n"
   ]
  },
  {
   "cell_type": "raw",
   "metadata": {},
   "source": []
  }
 ],
 "metadata": {
  "kernelspec": {
   "display_name": "Python 3",
   "language": "python",
   "name": "python3"
  },
  "language_info": {
   "codemirror_mode": {
    "name": "ipython",
    "version": 3
   },
   "file_extension": ".py",
   "mimetype": "text/x-python",
   "name": "python",
   "nbconvert_exporter": "python",
   "pygments_lexer": "ipython3",
   "version": "3.8.5"
  }
 },
 "nbformat": 4,
 "nbformat_minor": 5
}
